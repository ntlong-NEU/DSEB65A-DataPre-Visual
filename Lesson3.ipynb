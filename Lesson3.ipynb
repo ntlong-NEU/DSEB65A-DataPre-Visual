{
 "cells": [
  {
   "cell_type": "markdown",
   "id": "565ecaf5",
   "metadata": {},
   "source": [
    "## Lesson 3"
   ]
  },
  {
   "cell_type": "code",
   "execution_count": 1,
   "id": "1fa355d2",
   "metadata": {},
   "outputs": [],
   "source": [
    "import numpy as np\n",
    "import pandas as pd"
   ]
  },
  {
   "cell_type": "code",
   "execution_count": null,
   "id": "d061f575",
   "metadata": {},
   "outputs": [],
   "source": [
    "df_OR = pd.read_excel('Online_Retail.xlsx')\n",
    "df_OR.head()"
   ]
  },
  {
   "cell_type": "code",
   "execution_count": null,
   "id": "ab73f820",
   "metadata": {},
   "outputs": [],
   "source": []
  }
 ],
 "metadata": {
  "kernelspec": {
   "display_name": "env-teaching",
   "language": "python",
   "name": "python3"
  },
  "language_info": {
   "codemirror_mode": {
    "name": "ipython",
    "version": 3
   },
   "file_extension": ".py",
   "mimetype": "text/x-python",
   "name": "python",
   "nbconvert_exporter": "python",
   "pygments_lexer": "ipython3",
   "version": "3.11.7"
  }
 },
 "nbformat": 4,
 "nbformat_minor": 5
}
